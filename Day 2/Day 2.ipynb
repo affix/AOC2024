{
 "cells": [
  {
   "cell_type": "code",
   "execution_count": 13,
   "metadata": {},
   "outputs": [
    {
     "name": "stdout",
     "output_type": "stream",
     "text": [
      "516\n"
     ]
    }
   ],
   "source": [
    "input = open(\"input.txt\", \"r\")\n",
    "lines = input.readlines()\n",
    "\n",
    "safe_count = 0\n",
    "for i in range(len(lines)):\n",
    "    lines[i] = lines[i].replace(\"\\n\", \"\")\n",
    "    numbers = lines[i].split(\" \")\n",
    "    \n",
    "    increasing = all(int(numbers[j]) < int(numbers[j+1]) for j in range(len(numbers)-1))\n",
    "    decreasing = all(int(numbers[j]) > int(numbers[j+1]) for j in range(len(numbers)-1))\n",
    "\n",
    "    valid_differences = all(1 <= abs(int(numbers[i]) - int(numbers[i + 1])) <= 3 for i in range(len(numbers) - 1))\n",
    "\n",
    "    if (increasing or decreasing) and valid_differences:\n",
    "        safe_count += 1\n",
    "\n",
    "print(safe_count)"
   ]
  }
 ],
 "metadata": {
  "kernelspec": {
   "display_name": "usr",
   "language": "python",
   "name": "python3"
  },
  "language_info": {
   "codemirror_mode": {
    "name": "ipython",
    "version": 3
   },
   "file_extension": ".py",
   "mimetype": "text/x-python",
   "name": "python",
   "nbconvert_exporter": "python",
   "pygments_lexer": "ipython3",
   "version": "3.12.3"
  }
 },
 "nbformat": 4,
 "nbformat_minor": 2
}
