{
 "cells": [
  {
   "cell_type": "code",
   "execution_count": 31,
   "metadata": {},
   "outputs": [
    {
     "name": "stdout",
     "output_type": "stream",
     "text": [
      "Part 1 : 516\n"
     ]
    }
   ],
   "source": [
    "input = open(\"input.txt\", \"r\")\n",
    "lines = input.readlines()\n",
    "\n",
    "def is_safe(numbers):\n",
    "    increasing = all(int(numbers[j]) < int(numbers[j+1]) for j in range(len(numbers)-1))\n",
    "    decreasing = all(int(numbers[j]) > int(numbers[j+1]) for j in range(len(numbers)-1))\n",
    "\n",
    "    valid_differences = all(1 <= abs(int(numbers[i]) - int(numbers[i + 1])) <= 3 for i in range(len(numbers) - 1))\n",
    "\n",
    "    if (increasing or decreasing) and valid_differences:\n",
    "        return True\n",
    "\n",
    "safe_count = 0\n",
    "for i in range(len(lines)):\n",
    "    lines[i] = lines[i].replace(\"\\n\", \"\")\n",
    "    numbers = lines[i].split(\" \")\n",
    "    \n",
    "    if is_safe(numbers):\n",
    "        safe_count += 1\n",
    "\n",
    "print(f\"Part 1 : {safe_count}\")"
   ]
  },
  {
   "cell_type": "code",
   "execution_count": 32,
   "metadata": {},
   "outputs": [
    {
     "name": "stdout",
     "output_type": "stream",
     "text": [
      "Part 2 : 561\n"
     ]
    }
   ],
   "source": [
    "def is_safe_dampener(numbers):\n",
    "    if is_safe(numbers):\n",
    "        return True\n",
    "\n",
    "    for i in range(len(numbers)):\n",
    "        modified_numbers = numbers[:i] + numbers[i+1:]\n",
    "        if is_safe(modified_numbers):\n",
    "            return True\n",
    "\n",
    "safe_count = 0\n",
    "for i in range(len(lines)):\n",
    "    lines[i] = lines[i].replace(\"\\n\", \"\")\n",
    "    numbers = lines[i].split(\" \")\n",
    "    if is_safe_dampener(numbers):\n",
    "        safe_count += 1\n",
    "\n",
    "print(f\"Part 2 : {safe_count}\")"
   ]
  }
 ],
 "metadata": {
  "kernelspec": {
   "display_name": "usr",
   "language": "python",
   "name": "python3"
  },
  "language_info": {
   "codemirror_mode": {
    "name": "ipython",
    "version": 3
   },
   "file_extension": ".py",
   "mimetype": "text/x-python",
   "name": "python",
   "nbconvert_exporter": "python",
   "pygments_lexer": "ipython3",
   "version": "3.12.3"
  }
 },
 "nbformat": 4,
 "nbformat_minor": 2
}
