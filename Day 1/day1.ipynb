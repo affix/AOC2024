{
 "cells": [
  {
   "cell_type": "code",
   "execution_count": 28,
   "metadata": {},
   "outputs": [
    {
     "name": "stdout",
     "output_type": "stream",
     "text": [
      "Part 1 : 1879048\n"
     ]
    }
   ],
   "source": [
    "input = open(\"input.txt\", \"r\")\n",
    "lines = input.readlines()\n",
    "input.close()\n",
    "\n",
    "def parse_line(line):\n",
    "    parts = line.split(\"   \")\n",
    "    return (parts[0], int(parts[1]))\n",
    "\n",
    "first = []\n",
    "second = []\n",
    "\n",
    "for i in range(len(lines)):\n",
    "    one, two = parse_line(lines[i])\n",
    "    first.append(int(one))\n",
    "    second.append(int(two))\n",
    "\n",
    "first.sort()\n",
    "second.sort()\n",
    "\n",
    "\n",
    "distance = 0\n",
    "\n",
    "for i in range(len(first)):\n",
    "  d = first[i] - second[i]\n",
    "  if d < 0:\n",
    "    d = d * -1\n",
    "  distance += d\n",
    "\n",
    "print(f\"Part 1 : {distance}\")\n",
    "\n"
   ]
  },
  {
   "cell_type": "code",
   "execution_count": 29,
   "metadata": {},
   "outputs": [
    {
     "name": "stdout",
     "output_type": "stream",
     "text": [
      "Part 2 : 21024792\n"
     ]
    }
   ],
   "source": [
    "score = 0\n",
    "\n",
    "for i in range(len(first)):\n",
    "  count = 0\n",
    "  for j in range(len(first)):\n",
    "    if first[i] == second[j]:\n",
    "      count += 1\n",
    "  score += first[i] * count\n",
    "\n",
    "\n",
    "print(f\"Part 2 : {score}\")"
   ]
  }
 ],
 "metadata": {
  "kernelspec": {
   "display_name": "Python 3",
   "language": "python",
   "name": "python3"
  },
  "language_info": {
   "codemirror_mode": {
    "name": "ipython",
    "version": 3
   },
   "file_extension": ".py",
   "mimetype": "text/x-python",
   "name": "python",
   "nbconvert_exporter": "python",
   "pygments_lexer": "ipython3",
   "version": "3.13.0"
  }
 },
 "nbformat": 4,
 "nbformat_minor": 2
}
