{
 "cells": [
  {
   "cell_type": "code",
   "execution_count": 1,
   "metadata": {},
   "outputs": [
    {
     "name": "stdout",
     "output_type": "stream",
     "text": [
      "Part 1 : 2504\n"
     ]
    }
   ],
   "source": [
    "grid = open('input.txt').readlines()\n",
    "\n",
    "\n",
    "def find_xmas(grid):\n",
    "    word = \"XMAS\"\n",
    "    word_length = len(word)\n",
    "    directions = [\n",
    "        (0, 1),  # Horizontal right\n",
    "        (1, 0),  # Vertical down\n",
    "        (1, 1),  # Diagonal down-right\n",
    "        (1, -1),  # Diagonal down-left\n",
    "        (0, -1),  # Horizontal left\n",
    "        (-1, 0),  # Vertical up\n",
    "        (-1, -1),  # Diagonal up-left\n",
    "        (-1, 1),  # Diagonal up-right\n",
    "    ]\n",
    "    rows, cols = len(grid), len(grid[0])\n",
    "    count = 0\n",
    "\n",
    "    def is_valid(x, y, dx, dy):\n",
    "        \"\"\"Check if a word can start at (x, y) in the given direction (dx, dy).\"\"\"\n",
    "        for i in range(word_length):\n",
    "            nx, ny = x + i * dx, y + i * dy\n",
    "            if not (0 <= nx < rows and 0 <= ny < cols) or grid[nx][ny] != word[i]:\n",
    "                return False\n",
    "        return True\n",
    "\n",
    "    for x in range(rows):\n",
    "        for y in range(cols):\n",
    "            for dx, dy in directions:\n",
    "                if is_valid(x, y, dx, dy):\n",
    "                    count += 1\n",
    "\n",
    "    return count\n",
    "\n",
    "grid = [line.strip() for line in grid]\n",
    "\n",
    "print(f\"Part 1 : {find_xmas(grid)}\")"
   ]
  },
  {
   "cell_type": "code",
   "execution_count": 3,
   "metadata": {},
   "outputs": [
    {
     "name": "stdout",
     "output_type": "stream",
     "text": [
      "Part 2: 1923\n"
     ]
    }
   ],
   "source": [
    "def count_x_mas(grid):\n",
    "    rows, cols = len(grid), len(grid[0])\n",
    "    count = 0\n",
    "\n",
    "    def is_valid_x_mas(x, y):\n",
    "        if (\n",
    "            0 <= x - 1 < rows\n",
    "            and 0 <= x + 1 < rows\n",
    "            and 0 <= y - 1 < cols\n",
    "            and 0 <= y + 1 < cols\n",
    "        ):\n",
    "            top_left = grid[x - 1][y - 1]\n",
    "            center = grid[x][y]\n",
    "            bottom_right = grid[x + 1][y + 1]\n",
    "            top_right = grid[x - 1][y + 1]\n",
    "            bottom_left = grid[x + 1][y - 1]\n",
    "\n",
    "            diagonal1 = [top_left, center, bottom_right]\n",
    "            diagonal2 = [top_right, center, bottom_left]\n",
    "\n",
    "            return (diagonal1 == list(\"MAS\") or diagonal1 == list(\"SAM\")) and (\n",
    "                diagonal2 == list(\"MAS\") or diagonal2 == list(\"SAM\")\n",
    "            )\n",
    "        return False\n",
    "\n",
    "    for x in range(1, rows - 1):\n",
    "        for y in range(1, cols - 1):\n",
    "            if is_valid_x_mas(x, y):\n",
    "                count += 1\n",
    "\n",
    "    return count\n",
    "\n",
    "\n",
    "print(f\"Part 2: {count_x_mas(grid)}\")"
   ]
  }
 ],
 "metadata": {
  "kernelspec": {
   "display_name": "usr",
   "language": "python",
   "name": "python3"
  },
  "language_info": {
   "codemirror_mode": {
    "name": "ipython",
    "version": 3
   },
   "file_extension": ".py",
   "mimetype": "text/x-python",
   "name": "python",
   "nbconvert_exporter": "python",
   "pygments_lexer": "ipython3",
   "version": "3.12.3"
  }
 },
 "nbformat": 4,
 "nbformat_minor": 2
}
