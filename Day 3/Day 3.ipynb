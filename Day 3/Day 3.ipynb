{
 "cells": [
  {
   "cell_type": "code",
   "execution_count": 5,
   "metadata": {},
   "outputs": [
    {
     "name": "stdout",
     "output_type": "stream",
     "text": [
      "Part 1 : 171183089\n"
     ]
    }
   ],
   "source": [
    "import re\n",
    "\n",
    "input = open(\"input.txt\", \"r\")\n",
    "lines = input.readlines()\n",
    "\n",
    "\n",
    "results = []\n",
    "for i in lines:\n",
    "    matches = re.findall(r\"mul\\((\\d+),(\\d+)\\)\", i)\n",
    "    for match in matches:\n",
    "        results.append(int(match[0]) * int(match[1]))\n",
    "\n",
    "print(f\"Part 1 : {sum(results)}\")"
   ]
  },
  {
   "cell_type": "code",
   "execution_count": 11,
   "metadata": {},
   "outputs": [
    {
     "name": "stdout",
     "output_type": "stream",
     "text": [
      "Part 2 : 63866497\n"
     ]
    }
   ],
   "source": [
    "import re\n",
    "\n",
    "enabled = True\n",
    "results = []\n",
    "\n",
    "with open(\"input.txt\") as f:\n",
    "    lines = f.read()\n",
    "\n",
    "mul_pattern = re.compile(r\"mul\\((\\d+),(\\d+)\\)\")\n",
    "do_pattern = re.compile(r\"do\\(\\)\")\n",
    "dont_pattern = re.compile(r\"don't\\(\\)\")\n",
    "\n",
    "# Process the input\n",
    "for match in re.finditer(r\"(do\\(\\)|don't\\(\\)|mul\\(\\d+,\\d+\\))\", lines):\n",
    "    instruction = match.group(0)\n",
    "\n",
    "    if instruction == \"do()\":\n",
    "        enabled = True\n",
    "    elif instruction == \"don't()\":\n",
    "        enabled = False\n",
    "    elif enabled and \"mul\" in instruction:\n",
    "        mul_match = mul_pattern.match(instruction)\n",
    "        if mul_match:\n",
    "            x, y = map(int, mul_match.groups())\n",
    "            results.append(x * y)\n",
    "\n",
    "print(f\"Part 2 : {sum(results)}\")"
   ]
  }
 ],
 "metadata": {
  "kernelspec": {
   "display_name": "Python 3",
   "language": "python",
   "name": "python3"
  },
  "language_info": {
   "codemirror_mode": {
    "name": "ipython",
    "version": 3
   },
   "file_extension": ".py",
   "mimetype": "text/x-python",
   "name": "python",
   "nbconvert_exporter": "python",
   "pygments_lexer": "ipython3",
   "version": "3.12.3"
  }
 },
 "nbformat": 4,
 "nbformat_minor": 2
}
