{
 "cells": [
  {
   "cell_type": "code",
   "execution_count": 8,
   "metadata": {},
   "outputs": [
    {
     "name": "stdout",
     "output_type": "stream",
     "text": [
      "Part 1 : 171183089\n"
     ]
    }
   ],
   "source": [
    "import re\n",
    "\n",
    "input = open(\"input.txt\", \"r\")\n",
    "lines = input.readlines()\n",
    "\n",
    "\n",
    "results = []\n",
    "for i in lines:\n",
    "    matches = re.findall(r\"mul\\((\\d+),(\\d+)\\)\", i)\n",
    "    for match in matches:\n",
    "        results.append(int(match[0]) * int(match[1]))\n",
    "\n",
    "print(f\"Part 1 : {sum(results)}\")"
   ]
  }
 ],
 "metadata": {
  "kernelspec": {
   "display_name": "Python 3",
   "language": "python",
   "name": "python3"
  },
  "language_info": {
   "codemirror_mode": {
    "name": "ipython",
    "version": 3
   },
   "file_extension": ".py",
   "mimetype": "text/x-python",
   "name": "python",
   "nbconvert_exporter": "python",
   "pygments_lexer": "ipython3",
   "version": "3.13.0"
  }
 },
 "nbformat": 4,
 "nbformat_minor": 2
}
